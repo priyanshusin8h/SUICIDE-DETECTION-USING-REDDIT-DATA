{
 "cells": [
  {
   "cell_type": "code",
   "execution_count": 1,
   "id": "6d29cdc6",
   "metadata": {},
   "outputs": [
    {
     "name": "stderr",
     "output_type": "stream",
     "text": [
      "[nltk_data] Downloading package vader_lexicon to C:\\Users\\Priyanshu\n",
      "[nltk_data]     Singh\\AppData\\Roaming\\nltk_data...\n",
      "[nltk_data]   Package vader_lexicon is already up-to-date!\n"
     ]
    }
   ],
   "source": [
    "import pandas as pd\n",
    "import numpy as np \n",
    "from tabulate import tabulate\n",
    "from sklearn.feature_extraction.text import TfidfVectorizer\n",
    "from sklearn.feature_extraction.text import CountVectorizer\n",
    "from sklearn.feature_extraction.text import TfidfTransformer\n",
    "from sklearn import metrics\n",
    "import nltk\n",
    "import re\n",
    "import string\n",
    "from nltk.stem import WordNetLemmatizer\n",
    "from sklearn.model_selection import train_test_split\n",
    "from sklearn.ensemble import RandomForestClassifier\n",
    "from sklearn.metrics import accuracy_score, recall_score\n",
    "from sklearn.preprocessing import MinMaxScaler\n",
    "from sklearn.naive_bayes import MultinomialNB\n",
    "from sklearn.svm import SVC\n",
    "from sklearn.svm import LinearSVC\n",
    "from sklearn import metrics\n",
    "nltk.download('vader_lexicon')\n",
    "import warnings\n",
    "warnings.filterwarnings('ignore')\n"
   ]
  },
  {
   "cell_type": "code",
   "execution_count": 2,
   "id": "eeb0f88d",
   "metadata": {},
   "outputs": [
    {
     "name": "stdout",
     "output_type": "stream",
     "text": [
      "Requirement already satisfied: nltk in c:\\users\\priyanshu singh\\anaconda3\\lib\\site-packages (3.6.5)\n",
      "Requirement already satisfied: click in c:\\users\\priyanshu singh\\anaconda3\\lib\\site-packages (from nltk) (8.0.3)\n",
      "Requirement already satisfied: joblib in c:\\users\\priyanshu singh\\anaconda3\\lib\\site-packages (from nltk) (1.1.0)\n",
      "Requirement already satisfied: regex>=2021.8.3 in c:\\users\\priyanshu singh\\anaconda3\\lib\\site-packages (from nltk) (2021.8.3)\n",
      "Requirement already satisfied: tqdm in c:\\users\\priyanshu singh\\anaconda3\\lib\\site-packages (from nltk) (4.62.3)\n",
      "Requirement already satisfied: colorama in c:\\users\\priyanshu singh\\anaconda3\\lib\\site-packages (from click->nltk) (0.4.4)\n",
      "Note: you may need to restart the kernel to use updated packages.\n"
     ]
    }
   ],
   "source": [
    "pip install nltk"
   ]
  },
  {
   "cell_type": "code",
   "execution_count": 3,
   "id": "1fbc8ad5",
   "metadata": {},
   "outputs": [],
   "source": [
    "Suicide = pd.read_csv('../Priyanshu Singh/Suicide_Detection.csv')\n",
    "data_split = np.array_split(Suicide, 3)\n",
    "Suicide = data_split[0]\n",
    "Suicide = Suicide.drop('Unnamed: 0',axis=1)"
   ]
  },
  {
   "cell_type": "markdown",
   "id": "67b8c70c",
   "metadata": {},
   "source": [
    "*Preparing For Stopword removal and lemmatization*\n"
   ]
  },
  {
   "cell_type": "code",
   "execution_count": 4,
   "id": "f7ba7e79",
   "metadata": {},
   "outputs": [
    {
     "name": "stderr",
     "output_type": "stream",
     "text": [
      "[nltk_data] Downloading package stopwords to C:\\Users\\Priyanshu\n",
      "[nltk_data]     Singh\\AppData\\Roaming\\nltk_data...\n",
      "[nltk_data]   Package stopwords is already up-to-date!\n"
     ]
    }
   ],
   "source": [
    "nltk.download('stopwords')\n",
    "stopwords = nltk.corpus.stopwords.words('english')\n",
    "lemmatizer = WordNetLemmatizer()"
   ]
  },
  {
   "cell_type": "code",
   "execution_count": 5,
   "id": "4706bae2",
   "metadata": {},
   "outputs": [],
   "source": [
    "X = Suicide.drop('class', axis=1)\n",
    "y = Suicide['class']"
   ]
  },
  {
   "cell_type": "raw",
   "id": "ac596cc5",
   "metadata": {},
   "source": [
    "text preprocessing"
   ]
  },
  {
   "cell_type": "code",
   "execution_count": 6,
   "id": "1ea6de2d",
   "metadata": {},
   "outputs": [
    {
     "name": "stderr",
     "output_type": "stream",
     "text": [
      "[nltk_data] Downloading package wordnet to C:\\Users\\Priyanshu\n",
      "[nltk_data]     Singh\\AppData\\Roaming\\nltk_data...\n",
      "[nltk_data]   Package wordnet is already up-to-date!\n"
     ]
    },
    {
     "data": {
      "text/plain": [
       "True"
      ]
     },
     "execution_count": 6,
     "metadata": {},
     "output_type": "execute_result"
    }
   ],
   "source": [
    "import nltk\n",
    "nltk.download('wordnet')"
   ]
  },
  {
   "cell_type": "code",
   "execution_count": 7,
   "id": "f8a7156a",
   "metadata": {},
   "outputs": [],
   "source": [
    "# To remove emails\n",
    "email_regex = r'([a-zA-Z0-9_.+-]+@[a-zA-Z0-9-]+\\.[a-zA-Z0-9-.]+)'\n",
    "regexes_to_remove = [email_regex, r'Subject:', r'Re:']\n",
    "\n",
    "for i in range(0, len(X)):\n",
    "    # removing all special charachter\n",
    "    review = re.sub('[^a-zA-Z]', ' ', str(X['text'][i]))\n",
    "    # make document as lowerCase\n",
    "    review = review.lower()\n",
    "    # splitting the documents into words for ex ['iam', 'omar']\n",
    "    review = review.split()\n",
    "    # make limmatization --> (change, changing, changes)---> (change)\n",
    "    review = [lemmatizer.lemmatize(word) for word in review if not word in set(stopwords)]\n",
    "    # join the document agian\n",
    "    review = ' '.join(review)\n",
    "    \n",
    "    # removing mails\n",
    "    for r in regexes_to_remove:\n",
    "        X['text'][i] = re.sub(r, '', review)"
   ]
  },
  {
   "cell_type": "code",
   "execution_count": 8,
   "id": "fe26e39a",
   "metadata": {},
   "outputs": [],
   "source": [
    "X_train, X_test, y_train, y_test = train_test_split(X, y, test_size=0.3)"
   ]
  },
  {
   "cell_type": "code",
   "execution_count": 9,
   "id": "c56cd7ee",
   "metadata": {},
   "outputs": [],
   "source": [
    "tfidf_vectorizer = TfidfVectorizer(max_features=10000)\n",
    "tfidf_vectorizer_n12 = TfidfVectorizer(max_features=10000, ngram_range=(1,2))\n",
    "\n",
    "\n",
    "X_tfidf_train = tfidf_vectorizer.fit_transform(X_train['text'])\n",
    "X_tfidf_test = tfidf_vectorizer.transform(X_test['text'])\n",
    "\n",
    "X_tfidf_train_n12= tfidf_vectorizer_n12.fit_transform(X_train['text'])\n",
    "X_tfidf_test_n12=tfidf_vectorizer_n12.transform(X_test['text'])"
   ]
  },
  {
   "cell_type": "code",
   "execution_count": 10,
   "id": "a38e748f",
   "metadata": {},
   "outputs": [],
   "source": [
    "vectorizer = CountVectorizer()\n",
    "  \n",
    "X_bow_train = vectorizer.fit_transform(X_train['text'])\n",
    "X_bow_test = vectorizer.transform(X_test['text'])"
   ]
  },
  {
   "cell_type": "markdown",
   "id": "f2eb76fd",
   "metadata": {},
   "source": [
    "### Vader\n"
   ]
  },
  {
   "cell_type": "code",
   "execution_count": 11,
   "id": "215f88cc",
   "metadata": {},
   "outputs": [],
   "source": [
    "from nltk.sentiment.vader import SentimentIntensityAnalyzer as SIA\n",
    "def get_vader_scores(data):\n",
    "    sid=SIA()\n",
    "    vader_df=data.copy()\n",
    "    vader_df['scores'] = vader_df['text'].apply(lambda txt: sid.polarity_scores(str(txt)))\n",
    "    \n",
    "    vader_df['neg_score'] = vader_df['scores'].apply(lambda txt: txt['neg'])\n",
    "    vader_df['neu_score'] =vader_df['scores'].apply(lambda txt: txt['neu'])\n",
    "    vader_df['pos_score'] = vader_df['scores'].apply(lambda txt: txt['pos'])\n",
    "    vader_df['compound'] = vader_df['scores'].apply(lambda txt: txt['compound'])\n",
    "    vader_df.drop('scores', axis=1, inplace=True)\n",
    "    vader_df.drop('text', axis=1, inplace=True)\n",
    "    return vader_df\n"
   ]
  },
  {
   "cell_type": "code",
   "execution_count": 12,
   "id": "5d847cc5",
   "metadata": {},
   "outputs": [],
   "source": [
    "X_vader_train = get_vader_scores(X_train)\n",
    "X_vader_test= get_vader_scores(X_test)"
   ]
  },
  {
   "cell_type": "markdown",
   "id": "6d8ed171",
   "metadata": {},
   "source": [
    "###Feature Selection\n"
   ]
  },
  {
   "cell_type": "code",
   "execution_count": 13,
   "id": "9a4815eb",
   "metadata": {},
   "outputs": [],
   "source": [
    "from sklearn.svm import LinearSVC\n",
    "from sklearn.feature_selection import SelectFromModel"
   ]
  },
  {
   "cell_type": "code",
   "execution_count": 14,
   "id": "ce246911",
   "metadata": {},
   "outputs": [],
   "source": [
    "# We Can select any model but linearSVC has l1 norm penality which deals with sparse\n",
    "lsvc = LinearSVC(C=100, penalty='l1', max_iter=500, dual=False)\n",
    "lsvc.fit(X_tfidf_train, y_train)\n",
    "\n",
    "# This function select the best features that has high weigh\n",
    "fs = SelectFromModel(lsvc, prefit=True)\n",
    "# This function redeuce X to the selected features\n",
    "X_selection = fs.transform(X_tfidf_train)\n",
    "X_test_selection = fs.transform(X_tfidf_test)\n",
    "\n",
    "\n",
    "lsvc.fit(X_tfidf_train_n12, y_train)\n",
    "fs_n12 = SelectFromModel(lsvc, prefit=True)\n",
    "X_selection_n12 = fs_n12.transform(X_tfidf_train_n12)\n",
    "X_test_selection_n12 = fs_n12.transform(X_tfidf_test_n12)\n",
    "\n",
    "lsvc.fit(X_bow_train, y_train)\n",
    "fs_n12 = SelectFromModel(lsvc, prefit=True)\n",
    "X_selection_bow = fs_n12.transform(X_bow_train)\n",
    "X_test_selection_bow = fs_n12.transform(X_bow_test)"
   ]
  },
  {
   "cell_type": "code",
   "execution_count": 15,
   "id": "4b26d0e3",
   "metadata": {},
   "outputs": [],
   "source": [
    "import matplotlib.pyplot as plt\n",
    "def plot_results(data):\n",
    "    \n",
    "    barWidth = 0.15\n",
    "    # set heights of bars\n",
    "\n",
    "    bars1 = [data[0][1],data[1][1], data[2][1]]\n",
    "    bars2 = [data[0][2], data[1][2], data[2][2]]\n",
    "    bars3 = [data[0][3], data[1][3], data[2][3]]\n",
    "    bars4 = [data[0][4], data[1][4], data[2][4]]\n",
    "    \n",
    "\n",
    "    # Set position of bar on X axis\n",
    "    r1 = np.arange(len(bars1))\n",
    "    r2 = [x + barWidth for x in r1]\n",
    "    r3 = [x + barWidth for x in r2]\n",
    "    r4 = [x + barWidth for x in r3]\n",
    "    \n",
    "\n",
    "    # Make the plot\n",
    "    plt.bar(r1, bars1, color='r', width=barWidth, edgecolor='white', label='tfidf')\n",
    "    plt.bar(r2, bars2, color='b', width=barWidth, edgecolor='white', label='tfidf_n12')\n",
    "    plt.bar(r3, bars3, color='#2d7f5e', width=barWidth, edgecolor='white', label='bow')\n",
    "    plt.bar(r4, bars4, color='#9a7f5e', width=barWidth, edgecolor='white', label='vader')\n",
    "    \n",
    "\n",
    "    # Add xticks on the middle of the group bars\n",
    "    plt.xlabel('group', fontweight='bold')\n",
    "    plt.xticks([r + barWidth for r in range(len(bars1))], ['precision', 'recall', 'f1-score'])\n",
    "\n",
    "    # Create legend & Show graphic\n",
    "    plt.legend()\n",
    "    plt.grid()\n",
    "    plt.show()"
   ]
  },
  {
   "cell_type": "code",
   "execution_count": 16,
   "id": "9a1b75f3",
   "metadata": {},
   "outputs": [],
   "source": [
    "lsvc = LinearSVC(C=1000, penalty='l1', max_iter=500, dual=False)\n",
    "lsvc.fit(X_selection, y_train)\n",
    "y_predict_tfidf = lsvc.predict(X_test_selection)\n",
    "\n",
    "lsvc.fit(X_selection_n12,y_train)\n",
    "y_predict_tfidf_n12 = lsvc.predict(X_test_selection_n12)\n",
    "\n",
    "lsvc.fit(X_selection_bow,y_train)\n",
    "y_predict_bow = lsvc.predict(X_test_selection_bow)\n",
    "\n",
    "lsvc.fit(X_vader_train,y_train)\n",
    "y_predict_vader = lsvc.predict(X_vader_test)\n",
    "\n",
    "linear_svm_tfidf_results=metrics.precision_recall_fscore_support(y_test, y_predict_tfidf)\n",
    "linear_svm_tfidf_n12_results=metrics.precision_recall_fscore_support(y_test, y_predict_tfidf_n12)\n",
    "linear_svm_bow_results=metrics.precision_recall_fscore_support(y_test, y_predict_bow)\n",
    "vader_svm_results=metrics.precision_recall_fscore_support(y_test, y_predict_vader)"
   ]
  },
  {
   "cell_type": "code",
   "execution_count": 23,
   "id": "2c658cf5",
   "metadata": {},
   "outputs": [],
   "source": [
    "tfidf_acc= metrics.accuracy_score(y_test, y_predict_tfidf)\n",
    "tfidf_n12_acc=accuracy_score(y_test, y_predict_tfidf_n12)\n",
    "bow_acc= accuracy_score(y_test, y_predict_bow)\n",
    "vader_acc=accuracy_score(y_test, y_predict_vader)"
   ]
  },
  {
   "cell_type": "code",
   "execution_count": 18,
   "id": "b07ae9a5",
   "metadata": {},
   "outputs": [],
   "source": [
    "data1 = [['TF-IDF','TF-IDF 2-grams ','bag of words','vader'],\n",
    "         ['precision',linear_svm_tfidf_results[0][0],linear_svm_tfidf_n12_results[0][0],linear_svm_bow_results[0][0],\n",
    "          vader_svm_results[0][0]],\n",
    "         ['recall',linear_svm_tfidf_results[1][0],linear_svm_tfidf_n12_results[1][0],linear_svm_bow_results[1][0],\n",
    "          vader_svm_results[1][0]],\n",
    "         ['F1-score',linear_svm_tfidf_results[2][0],linear_svm_tfidf_n12_results[2][0],linear_svm_bow_results[2][0],\n",
    "          vader_svm_results[2][0]],\n",
    "        ['accuracy',tfidf_acc,tfidf_n12_acc,bow_acc,\n",
    "          vader_acc]]"
   ]
  },
  {
   "cell_type": "code",
   "execution_count": 19,
   "id": "26288f42",
   "metadata": {},
   "outputs": [
    {
     "name": "stdout",
     "output_type": "stream",
     "text": [
      "╒═══════════╤══════════╤═══════════════════╤════════════════╤══════════╕\n",
      "│           │   TF-IDF │   TF-IDF 2-grams  │   bag of words │    vader │\n",
      "╞═══════════╪══════════╪═══════════════════╪════════════════╪══════════╡\n",
      "│ precision │ 0.867155 │          0.876351 │       0.86864  │ 0.687182 │\n",
      "├───────────┼──────────┼───────────────────┼────────────────┼──────────┤\n",
      "│ recall    │ 0.857438 │          0.838735 │       0.872608 │ 0.709274 │\n",
      "├───────────┼──────────┼───────────────────┼────────────────┼──────────┤\n",
      "│ F1-score  │ 0.862269 │          0.85713  │       0.87062  │ 0.698053 │\n",
      "├───────────┼──────────┼───────────────────┼────────────────┼──────────┤\n",
      "│ accuracy  │ 0.863064 │          0.860221 │       0.870346 │ 0.693252 │\n",
      "╘═══════════╧══════════╧═══════════════════╧════════════════╧══════════╛\n"
     ]
    }
   ],
   "source": [
    "print(tabulate(data1,headers='firstrow',tablefmt='fancy_grid'))"
   ]
  },
  {
   "cell_type": "code",
   "execution_count": 20,
   "id": "f71b6898",
   "metadata": {},
   "outputs": [
    {
     "data": {
      "image/png": "[encoded data removed]",
      "text/plain": [
       "<Figure size 432x288 with 1 Axes>"
      ]
     },
     "metadata": {
      "needs_background": "light"
     },
     "output_type": "display_data"
    }
   ],
   "source": [
    "plot_results(data1[1:])"
   ]
  },
  {
   "cell_type": "markdown",
   "id": "960c1117",
   "metadata": {},
   "source": [
    "RandomForest_tfidf_results=metrics.precision_recall_fscore_support(y_test, y_predict_tfidf_2)\n",
    "RandomForest_tfidf_n12_results=metrics.precision_recall_fscore_support(y_test, y_predict_tfidf_n12_2)\n",
    "RandomForest_bow_results=metrics.precision_recall_fscore_support(y_test, y_predict_bow_2)\n",
    "RandomForest_vader_results=metrics.precision_recall_fscore_support(y_test, y_predict_vader_2)"
   ]
  },
  {
   "cell_type": "markdown",
   "id": "2877b7b4",
   "metadata": {},
   "source": [
    "Using random Forest"
   ]
  }
 ],
 "metadata": {
  "kernelspec": {
   "display_name": "Python 3 (ipykernel)",
   "language": "python",
   "name": "python3"
  },
  "language_info": {
   "codemirror_mode": {
    "name": "ipython",
    "version": 3
   },
   "file_extension": ".py",
   "mimetype": "text/x-python",
   "name": "python",
   "nbconvert_exporter": "python",
   "pygments_lexer": "ipython3",
   "version": "3.9.13"
  }
 },
 "nbformat": 4,
 "nbformat_minor": 5
}
